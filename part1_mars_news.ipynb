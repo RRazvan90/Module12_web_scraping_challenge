{
 "cells": [
  {
   "cell_type": "code",
   "execution_count": 1,
   "id": "f13dc204",
   "metadata": {},
   "outputs": [],
   "source": [
    "from bs4 import BeautifulSoup as bs\n",
    "import pandas as pd\n",
    "from webdriver_manager.chrome import ChromeDriverManager\n",
    "from splinter import Browser"
   ]
  },
  {
   "cell_type": "code",
   "execution_count": 2,
   "id": "6c457f6e",
   "metadata": {},
   "outputs": [
    {
     "name": "stderr",
     "output_type": "stream",
     "text": [
      "[WDM] - Downloading: 100%|█████████████████| 8.41M/8.41M [00:00<00:00, 9.66MB/s]\n"
     ]
    }
   ],
   "source": [
    "# setting up splinter\n",
    "executable_path = {'executable_path': ChromeDriverManager().install()}\n",
    "browser = Browser('chrome', **executable_path, headless=False)"
   ]
  },
  {
   "cell_type": "code",
   "execution_count": 3,
   "id": "c9953954",
   "metadata": {},
   "outputs": [],
   "source": [
    "# website URL\n",
    "url = 'https://redplanetscience.com/'\n",
    "browser.visit(url)"
   ]
  },
  {
   "cell_type": "code",
   "execution_count": 4,
   "id": "d162b318",
   "metadata": {},
   "outputs": [],
   "source": [
    "# scraping page into BeautofulSoup\n",
    "html = browser.html\n",
    "soup = bs(html, 'html.parser')"
   ]
  },
  {
   "cell_type": "code",
   "execution_count": 5,
   "id": "50d944d8",
   "metadata": {},
   "outputs": [],
   "source": [
    "results = soup.find_all('div', class_='list_text')"
   ]
  },
  {
   "cell_type": "code",
   "execution_count": 8,
   "id": "3404d2fa",
   "metadata": {},
   "outputs": [
    {
     "name": "stdout",
     "output_type": "stream",
     "text": [
      "-------------\n",
      "headline: Three New Views of Mars' Moon Phobos\n",
      "preview: Taken with the infrared camera aboard NASA's Odyssey orbiter, they reveal temperature variations on the small moon as it drifts into and out of Mars’ shadow.\n",
      "-------------\n",
      "-------------\n",
      "headline: NASA's Mars 2020 Rover Completes Its First Drive\n",
      "preview: In a 10-plus-hour marathon, the rover steered, turned and drove in 3-foot (1-meter) increments over small ramps.\n",
      "-------------\n",
      "-------------\n",
      "headline: How NASA's Mars Helicopter Will Reach the Red Planet's Surface\n",
      "preview: The small craft will seek to prove that powered, controlled flight is possible on another planet. But just getting it onto the surface of Mars will take a whole lot of ingenuity.\n",
      "-------------\n",
      "-------------\n",
      "headline: All About the Laser (and Microphone) Atop Mars 2020, NASA's Next Rover\n",
      "preview: SuperCam is a rock-vaporizing instrument that will help scientists hunt for Mars fossils.\n",
      "-------------\n",
      "-------------\n",
      "headline: NASA, ULA Launch Mars 2020 Perseverance Rover Mission to Red Planet\n",
      "preview: The agency's Mars 2020 mission is on its way. It will land at Jezero Crater in about seven months, on Feb. 18, 2021. \n",
      "-------------\n",
      "-------------\n",
      "headline: Hear Audio From NASA's Perseverance As It Travels Through Deep Space\n",
      "preview: The first to be rigged with microphones, the agency's latest Mars rover picked up the subtle sounds of its own inner workings during interplanetary flight.\n",
      "-------------\n",
      "-------------\n",
      "headline: NASA's Curiosity Keeps Rolling As Team Operates Rover From Home\n",
      "preview: The team has learned to meet new challenges as they work remotely on the Mars mission.\n",
      "-------------\n",
      "-------------\n",
      "headline: Screening Soon: 'The Pathfinders' Trains Lens on Mars\n",
      "preview: With the Mars 2020 mission ramping up, the documentary — the first of four about past JPL missions to the Red Planet to be shown at Caltech — tells a gripping backstory.\n",
      "-------------\n",
      "-------------\n",
      "headline: NASA's Mars Perseverance Rover Gets Its Sample Handling System\n",
      "preview: The system will be collecting and storing Martian rock and soil. Its installation marks another milestone in the march toward the July launch period.\n",
      "-------------\n",
      "-------------\n",
      "headline: NASA's Perseverance Rover Is Midway to Mars \n",
      "preview: Sometimes half measures can be a good thing – especially on a journey this long. The agency's latest rover only has about 146 million miles left to reach its destination.\n",
      "-------------\n",
      "-------------\n",
      "headline: NASA's Mars 2020 Rover Closer to Getting Its Name\n",
      "preview: 155 students from across the U.S. have been chosen as semifinalists in NASA's essay contest to name the Mars 2020 rover, and see it launch from Cape Canaveral this July.\n",
      "-------------\n",
      "-------------\n",
      "headline: 8 Martian Postcards to Celebrate Curiosity's Landing Anniversary\n",
      "preview: The NASA rover touched down eight years ago, on Aug. 5, 2012, and will soon be joined by a second rover, Perseverance.\n",
      "-------------\n",
      "-------------\n",
      "headline: My Culture, My Voice\n",
      "preview: In honor of Hispanic Heritage Month, Christina Hernandez, an instrument engineer on the Mars 2020 mission, talks about her childhood and journey to NASA.\n",
      "-------------\n",
      "-------------\n",
      "headline: Newfound Martian Aurora Actually the Most Common; Sheds Light on Mars' Changing Climate\n",
      "preview: A type of Martian aurora first identified by NASA’s MAVEN spacecraft in 2016 is actually the most common form of aurora occurring on the Red Planet, according to new results from the mission.\n",
      "-------------\n",
      "-------------\n",
      "headline: NASA Wins 4 Webbys, 4 People's Voice Awards\n",
      "preview: Winners include the JPL-managed \"Send Your Name to Mars\" campaign, NASA's Global Climate Change website and Solar System Interactive.\n",
      "-------------\n"
     ]
    }
   ],
   "source": [
    "headlines_list = []\n",
    "preview_lists = []\n",
    "\n",
    "# looping through returned lists\n",
    "for result in results:\n",
    "\n",
    "    # getting titles\n",
    "    headlines = result.find('div', class_='content_title').text\n",
    "    # getting preview texts\n",
    "    previewparagraphs = result.find('div', class_='article_teaser_body').text\n",
    "\n",
    "    headlines_list.append(headlines)\n",
    "    preview_lists.append(previewparagraphs)\n",
    "\n",
    "    print('-------------')\n",
    "    print('headline: ' + str(headlines))\n",
    "    print('preview: ' + str(previewparagraphs))\n",
    "    print('-------------')"
   ]
  },
  {
   "cell_type": "code",
   "execution_count": 9,
   "id": "9c6d821e",
   "metadata": {},
   "outputs": [],
   "source": [
    "# closing browser\n",
    "browser.quit()"
   ]
  },
  {
   "cell_type": "code",
   "execution_count": null,
   "id": "13d5ae59",
   "metadata": {},
   "outputs": [],
   "source": []
  }
 ],
 "metadata": {
  "kernelspec": {
   "display_name": "Python 3 (ipykernel)",
   "language": "python",
   "name": "python3"
  },
  "language_info": {
   "codemirror_mode": {
    "name": "ipython",
    "version": 3
   },
   "file_extension": ".py",
   "mimetype": "text/x-python",
   "name": "python",
   "nbconvert_exporter": "python",
   "pygments_lexer": "ipython3",
   "version": "3.9.12"
  }
 },
 "nbformat": 4,
 "nbformat_minor": 5
}
